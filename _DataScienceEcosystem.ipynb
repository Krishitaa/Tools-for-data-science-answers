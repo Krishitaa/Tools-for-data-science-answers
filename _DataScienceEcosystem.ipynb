{
 "cells": [
  {
   "cell_type": "markdown",
   "id": "4daac1f5-4718-4ee8-9e39-af814c477277",
   "metadata": {},
   "source": [
    "# DATA SCIENCE TOOLS AND ECOSYSTEM"
   ]
  },
  {
   "cell_type": "markdown",
   "id": "401e10a7-2490-4e0b-86f1-7dfa56fbb40c",
   "metadata": {},
   "source": [
    "In this notebook, Data Science Tools and Ecosystem are summarized.\n"
   ]
  },
  {
   "cell_type": "markdown",
   "id": "0bd0d748-b2de-404a-bac7-a7b9b2f41ca1",
   "metadata": {},
   "source": [
    "Some of the popular languages that Data Scientists use are:\n",
    "1. Python\n",
    "2. Julia\n",
    "3. R\n",
    "4. SQL\n",
    "5. Java"
   ]
  },
  {
   "cell_type": "markdown",
   "id": "96d92550-4013-4360-88a3-2b04a5962076",
   "metadata": {},
   "source": [
    "Some of the commonly used libraries used by Data Scientists include:\n",
    "1. Numpy\n",
    "2. Tensorflow\n",
    "3. Pandas\n",
    "4. Keras"
   ]
  },
  {
   "cell_type": "markdown",
   "id": "f3c64888-8cbc-4b98-8ff9-d9ef536c16b3",
   "metadata": {},
   "source": [
    "|Data Science Tools|\n",
    "| -----------------|\n",
    "|SAS|\n",
    "|APACHE HADOOP|\n",
    "|TENSORFLOW|\n",
    "\n"
   ]
  },
  {
   "cell_type": "markdown",
   "id": "023e8094-1a82-48da-8c6f-264aba0c83c2",
   "metadata": {},
   "source": [
    "### Below are a few examples of evaluating arithmetic expressions in Python\n"
   ]
  },
  {
   "cell_type": "code",
   "execution_count": 2,
   "id": "ce8fc21b-a6c8-4d1d-a4dc-fac42264ff79",
   "metadata": {},
   "outputs": [
    {
     "data": {
      "text/plain": [
       "75"
      ]
     },
     "execution_count": 2,
     "metadata": {},
     "output_type": "execute_result"
    }
   ],
   "source": [
    "(7*10)+5"
   ]
  },
  {
   "cell_type": "code",
   "execution_count": 4,
   "id": "2d71aa39-5143-4fb0-84da-d45545474fa7",
   "metadata": {},
   "outputs": [
    {
     "data": {
      "text/plain": [
       "17"
      ]
     },
     "execution_count": 4,
     "metadata": {},
     "output_type": "execute_result"
    }
   ],
   "source": [
    "#This a simple arithmetic expression to multiply then add integers\n",
    "(3*4)+5"
   ]
  },
  {
   "cell_type": "code",
   "execution_count": 6,
   "id": "a9742c26-1436-4547-a09d-1a5448fd539a",
   "metadata": {},
   "outputs": [
    {
     "name": "stdout",
     "output_type": "stream",
     "text": [
      "3.3333333333333335\n"
     ]
    }
   ],
   "source": [
    "#This will convert 200 minutes to hours by diving by 60\n",
    "mins=200\n",
    "hours=mins/60\n",
    "print(hours)"
   ]
  },
  {
   "cell_type": "markdown",
   "id": "a6613d61-4d89-4802-b91f-559c638837c9",
   "metadata": {},
   "source": [
    "**Objectives:**\n",
    "- List popular languages for Data Science\n",
    "- List popular libraries for Data Science\n",
    "- List of well known Data Science tools\n",
    "- How to provide comments in cells"
   ]
  },
  {
   "cell_type": "markdown",
   "id": "0dbc0b5e-d2bc-4033-ad9f-35781b86a1ee",
   "metadata": {},
   "source": [
    "## Author\n",
    "Krishitaa Balamurali"
   ]
  },
  {
   "cell_type": "code",
   "execution_count": null,
   "id": "cdf68848-f074-4860-9bda-e9e93bff79b0",
   "metadata": {},
   "outputs": [],
   "source": []
  }
 ],
 "metadata": {
  "kernelspec": {
   "display_name": "anaconda-2022.05-py39",
   "language": "python",
   "name": "conda-env-anaconda-2022.05-py39-py"
  },
  "language_info": {
   "codemirror_mode": {
    "name": "ipython",
    "version": 3
   },
   "file_extension": ".py",
   "mimetype": "text/x-python",
   "name": "python",
   "nbconvert_exporter": "python",
   "pygments_lexer": "ipython3",
   "version": "3.9.12"
  }
 },
 "nbformat": 4,
 "nbformat_minor": 5
}
